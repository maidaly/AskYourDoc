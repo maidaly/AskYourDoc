{
 "cells": [
  {
   "cell_type": "code",
   "execution_count": 4,
   "metadata": {},
   "outputs": [
    {
     "name": "stdout",
     "output_type": "stream",
     "text": [
      "Image Embedding Shape: torch.Size([512])\n"
     ]
    }
   ],
   "source": [
    "from transformers import CLIPProcessor, CLIPModel\n",
    "from PIL import Image\n",
    "import torch\n",
    "\n",
    "def get_image_embedding(image_path: str):\n",
    "    \"\"\"\n",
    "    Get image embeddings using a locally stored CLIP model.\n",
    "\n",
    "    Args:\n",
    "        image_path (str): Path to the image file.\n",
    "\n",
    "    Returns:\n",
    "        torch.Tensor: The image embedding.\n",
    "    \"\"\"\n",
    "    # Load the local CLIP model and processor\n",
    "    model = CLIPModel.from_pretrained(\"./local_clip_model\")\n",
    "    processor = CLIPProcessor.from_pretrained(\"./local_clip_processor\")\n",
    "\n",
    "    # Load and preprocess the image\n",
    "    image = Image.open(image_path).convert(\"RGB\")\n",
    "    inputs = processor(images=image, return_tensors=\"pt\")\n",
    "\n",
    "    # Generate embeddings\n",
    "    with torch.no_grad():\n",
    "        image_embedding = model.get_image_features(**inputs)\n",
    "    \n",
    "    return image_embedding[0]\n",
    "\n",
    "# Example usage\n",
    "image_embedding = get_image_embedding(\"my_image.jpg\")\n",
    "print(\"Image Embedding Shape:\", image_embedding.shape)"
   ]
  },
  {
   "cell_type": "code",
   "execution_count": null,
   "metadata": {},
   "outputs": [],
   "source": []
  }
 ],
 "metadata": {
  "kernelspec": {
   "display_name": "llm",
   "language": "python",
   "name": "python3"
  },
  "language_info": {
   "codemirror_mode": {
    "name": "ipython",
    "version": 3
   },
   "file_extension": ".py",
   "mimetype": "text/x-python",
   "name": "python",
   "nbconvert_exporter": "python",
   "pygments_lexer": "ipython3",
   "version": "3.10.15"
  }
 },
 "nbformat": 4,
 "nbformat_minor": 2
}
